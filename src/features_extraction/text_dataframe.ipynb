{
 "cells": [
  {
   "cell_type": "code",
   "execution_count": 4,
   "metadata": {},
   "outputs": [
    {
     "name": "stderr",
     "output_type": "stream",
     "text": [
      "/home/mickael/anaconda3/envs/TAV/lib/python3.6/site-packages/ipykernel_launcher.py:36: FutureWarning: Sorting because non-concatenation axis is not aligned. A future version\n",
      "of pandas will change to not sort by default.\n",
      "\n",
      "To accept the future behavior, pass 'sort=False'.\n",
      "\n",
      "To retain the current behavior and silence the warning, pass 'sort=True'.\n",
      "\n"
     ]
    }
   ],
   "source": [
    "import pandas as pd\n",
    "import numpy as np\n",
    "import xml.etree.ElementTree as ET\n",
    "import os\n",
    "\n",
    "\n",
    "class GetText:\n",
    "    def __init__(self, list_path_in, path_out: str):\n",
    "        \"\"\"\n",
    "        Arguments:\n",
    "            list_path_in {List[str]} -- List of file you want to read\n",
    "            path_out {str} -- path of csv file \n",
    "        \"\"\"\n",
    "\n",
    "        self.list_path_in = list_path_in\n",
    "        self.path_out = path_out\n",
    "\n",
    "    def get_text(self):\n",
    "        for path in self.list_path_in:\n",
    "            tree = ET.parse(path)\n",
    "            root = tree.getroot()\n",
    "            dict_replica = {}\n",
    "            for s in root.iter('s'):\n",
    "                dict_replica.update(\n",
    "                    {s.attrib['id']: ''.join([w.text for w in s.iter('w')])})\n",
    "            yield path, {root.attrib['id']: dict_replica}\n",
    "\n",
    "    def generate_dataframe(self):\n",
    "        dataframe = pd.DataFrame(columns=['Sequence', 's_id', 'Text'])\n",
    "        for document,dict_sequence in self.get_text():\n",
    "                data = pd.DataFrame.from_dict(dict_sequence)\n",
    "                name_col = data.columns[0]\n",
    "                data['Sequence'] = name_col\n",
    "                data = data.reset_index()\n",
    "                data = data.rename(columns={name_col: 'Text', 'index': 's_id'})\n",
    "                dataframe = pd.concat([dataframe, data], axis='rows')\n",
    "        \n",
    "        dataframe.to_csv(self.path_out, index=False,sep='§')\n",
    "\n",
    "\n",
    "if __name__ == '__main__':\n",
    "    list_path = [f'/home/mickael/Documents/challenge_son_vidéo_texte/data/text/{f}'for f in os.listdir('/home/mickael/Documents/challenge_son_vidéo_texte/data/text/')]\n",
    "    list_path = [x for x in list_path if x[-4:]=='.xml']\n",
    "    test = GetText(list_path, '/home/mickael/Documents/challenge_son_vidéo_texte/features/text/sequence_text.csv')\n",
    "test.generate_dataframe()"
   ]
  }
 ],
 "metadata": {
  "kernelspec": {
   "display_name": "Python 3",
   "language": "python",
   "name": "python3"
  },
  "language_info": {
   "codemirror_mode": {
    "name": "ipython",
    "version": 3
   },
   "file_extension": ".py",
   "mimetype": "text/x-python",
   "name": "python",
   "nbconvert_exporter": "python",
   "pygments_lexer": "ipython3",
   "version": "3.6.6"
  }
 },
 "nbformat": 4,
 "nbformat_minor": 2
}
