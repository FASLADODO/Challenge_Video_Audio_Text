{
 "cells": [
  {
   "cell_type": "code",
   "execution_count": 1,
   "metadata": {},
   "outputs": [],
   "source": [
    "from nltk.corpus import stopwords\n",
    "from nltk.tokenize import RegexpTokenizer\n",
    "import pandas as pd\n",
    "import numpy as np\n",
    "import re\n",
    "import nltk\n",
    "from math import log\n",
    "import math\n",
    "import matplotlib.pyplot as plt\n",
    "from sklearn.decomposition import PCA\n",
    "from nltk.corpus import wordnet\n",
    "#import nltk\n",
    "#nltk.download()\n",
    "import collections\n",
    "from sklearn.feature_extraction.text import TfidfVectorizer\n",
    "from nltk import word_tokenize\n",
    "from nltk.corpus import stopwords"
   ]
  },
  {
   "cell_type": "markdown",
   "metadata": {},
   "source": [
    "data = pd.read_csv(f'/home/mickael/Documents/Challenge_Video_Audio_Text/features/text/sequence_text.csv',sep='§')\n",
    "data = data.drop(['s_id'],axis = 'columns')\n",
    "data = data.drop(['Sequence'],axis = 'columns')\n",
    "#data"
   ]
  },
  {
   "cell_type": "code",
   "execution_count": 2,
   "metadata": {},
   "outputs": [
    {
     "name": "stderr",
     "output_type": "stream",
     "text": [
      "/home/mickael/anaconda3/lib/python3.6/site-packages/ipykernel_launcher.py:1: ParserWarning: Falling back to the 'python' engine because the separator encoded in utf-8 is > 1 char long, and the 'c' engine does not support such separators; you can avoid this warning by specifying engine='python'.\n",
      "  \"\"\"Entry point for launching an IPython kernel.\n"
     ]
    }
   ],
   "source": [
    "data = pd.read_csv('/home/mickael/Documents/Challenge_Video_Audio_Text/features/text/sequence_text.csv', sep='§')\n",
    "\n",
    "data = data.groupby(['Sequence'])['Text'].sum() # Découper par séquence ou réplique\n",
    "data = data.reset_index()"
   ]
  },
  {
   "cell_type": "code",
   "execution_count": 3,
   "metadata": {},
   "outputs": [],
   "source": [
    "stop = set(stopwords.words('french'))\n",
    "stop.update(['.', ',', '\"', \"'\", '?', '!', ':',\n",
    "                   ';', '(', ')', '[', ']', '{', '}','-','...', '..', '«', '»' ])\n",
    "\n",
    "data['Text'] = data['Text'].apply(\n",
    "    lambda x: ' '.join([i for i in word_tokenize(x) if i not in stop])) \n",
    "# data.iloc[5] data = [data['Text']]\n",
    "#print(data.groupby('Text').apply(' '.join).reset_index())"
   ]
  },
  {
   "cell_type": "code",
   "execution_count": 4,
   "metadata": {},
   "outputs": [
    {
     "data": {
      "text/plain": [
       "0    On paumé brousse parce ’ autre monsieur Meyer ...\n",
       "1    Vous allez fâchez si dit quelque chose Dans fo...\n",
       "2    Fils libraire Desrochelles Paul né Sarreguemin...\n",
       "3    Ici deux fois a prêté cette jolie maison rose ...\n",
       "4    Je voudrais profiter présence cette maison où ...\n",
       "Name: Text, dtype: object"
      ]
     },
     "execution_count": 4,
     "metadata": {},
     "output_type": "execute_result"
    }
   ],
   "source": [
    "data['Text'][0:5]"
   ]
  },
  {
   "cell_type": "code",
   "execution_count": 5,
   "metadata": {},
   "outputs": [],
   "source": [
    "fenetre = [] # liste des 308 séquences sous forme de fenetre\n",
    "for i in data['Text']:\n",
    "    fenetre.append([i])\n"
   ]
  },
  {
   "cell_type": "code",
   "execution_count": 47,
   "metadata": {},
   "outputs": [],
   "source": [
    "fenetre = fenetre[0:2]\n",
    "fenetre = [sentence.split() for f in fenetre for sentence in f] # une fenetre : une séquence\n",
    "#[f.split() for f in fenetre[0]]"
   ]
  },
  {
   "cell_type": "code",
   "execution_count": 41,
   "metadata": {},
   "outputs": [],
   "source": [
    "liste = []\n",
    "for i in data['Text']:\n",
    "    liste.append(i)\n"
   ]
  },
  {
   "cell_type": "code",
   "execution_count": 42,
   "metadata": {},
   "outputs": [
    {
     "data": {
      "text/plain": [
       "['On paumé brousse parce ’ autre monsieur Meyer a théories malchance C ’ vrai Mais si pauvre vieux Votre sagacité esprit déductif Ils foutu gueule Je désolé ’ envie ’ retrouve mort ’ épuisement Installez-vous voiture essayez dormir Je vais cassé gueule Campana Faut ’ vouloir J ’ ’ accord Défendez-vous Faites ’ idiot allez faire mal Vous allez faire mal Vous fait mal Attention ’ a arbre là Une seconde Voilà pouvez aller Ça va maintenant calmez-vous Perrin ’ entendez',\n",
       " 'Vous allez fâchez si dit quelque chose Dans fond ’ encore grâce si a retrouvé piste Si ’ allez Sunny Club ’ blonde boire verre les types ’ piqué argent Je crois magie Je crois logique Vous savez ça veux dire Je homme rationnel cartésien Et compte faire enquête coïncidences fumeuses',\n",
       " \"Fils libraire Desrochelles Paul né Sarreguemines mort février mille huit cent quatre-vingt-dix-sept Desrochelles Jean c'est ça Comment Alors Oui A Saintes Dans les Charentes Oui très bien Merci\",\n",
       " \"Ici deux fois a prêté cette jolie maison rose faire avortements clandestins J'ai fait partie femmes signé manifeste nommé Minute manifeste trois cent quarante-trois `` salopes '' car déclarait NOUS AVONS AVORTÉ JUGEZ-NOUS C'était vrai c'était faux liste signataires plus moins connues faisait bruit Toujours combat droit femmes travailleurs\",\n",
       " \"Je voudrais profiter présence cette maison où filles grandies m'excuser Nan sincèrement désolé propos pu choquer dernière fois Mais enfin c'était dit sans méchanceté Y'a problèmes C'est vieux tout ça Vous m'ôtez épine pied parce tant Gaulliste j'étais très attristé qu'on puisse prendre quelqu'un raciste Mes mots dépassé pensée Claude En plus a tous petit côté raciste fond Enfin tout cas veux sachiez n'avons rien contre les juifs les arabes les chinois D'autant Français comme Absolument absolument Enfin euh être tout fait honnête départ n'étiez les gendres idéaux Vous prenez mal j'espère Non non évidemment J'imagine tête père si toutes sœurs mariées Auvergnats Personnellement mère beaucoup mal accepter Odile Oui confirme oui Ah non ils ravis Sauf quand annoncé qu'elle artiste-peintre Le plus important c'est bonheur filles Si elles heureuses aussi Vous tous les trois bienvenus famille Verneuil Merci Je propose portons toast famille A famille\"]"
      ]
     },
     "execution_count": 42,
     "metadata": {},
     "output_type": "execute_result"
    }
   ],
   "source": [
    "liste = liste[0:5]\n",
    "liste"
   ]
  },
  {
   "cell_type": "code",
   "execution_count": 7,
   "metadata": {},
   "outputs": [],
   "source": [
    "#proba simple : On calcule la probabilité d'apparition d'un mot dans les fenêtres\n",
    "def proba_simple(mot, fen):\n",
    "    count = 0\n",
    "    for fenetre in fen:\n",
    "        if mot in fenetre:\n",
    "            count += 1\n",
    "    return(count/len(fen))"
   ]
  },
  {
   "cell_type": "code",
   "execution_count": 12,
   "metadata": {},
   "outputs": [],
   "source": [
    "def proba_conjoint(mot1, mot2, fen):\n",
    "    count = 0\n",
    "    for fenetre in fen:\n",
    "        if mot1 in fenetre:\n",
    "            if mot2 in fenetre:\n",
    "                count += 1\n",
    "    return(count/len(fen))"
   ]
  },
  {
   "cell_type": "code",
   "execution_count": 43,
   "metadata": {},
   "outputs": [],
   "source": [
    "liste = \" \".join(liste).split()"
   ]
  },
  {
   "cell_type": "code",
   "execution_count": 51,
   "metadata": {},
   "outputs": [],
   "source": [
    "liste = liste[0:10]"
   ]
  },
  {
   "cell_type": "code",
   "execution_count": 13,
   "metadata": {},
   "outputs": [],
   "source": [
    "def proba_conjointe(data):\n",
    "    freq_2mots = [[0 for i in range(len(liste))] for i in range(len(liste))]\n",
    "    for mot1 in liste:\n",
    "        for mot2 in liste:\n",
    "            if mot1 != mot2: \n",
    "                den=0\n",
    "                num=0\n",
    "                for i in fenetre:\n",
    "                    if (mot1 or mot2) in i:\n",
    "                        if (mot1 and mot2) in i:\n",
    "                            den+=1\n",
    "                        num +=1   \n",
    "                if den!= 0:\n",
    "                     freq_2mots[liste.index(mot1)][liste.index(mot2)]=den/len(liste)\n",
    "                else:\n",
    "                     freq_2mots[liste.index(mot1)][liste.index(mot2)]=0\n",
    "    return freq_2mots\n"
   ]
  },
  {
   "cell_type": "code",
   "execution_count": 52,
   "metadata": {},
   "outputs": [
    {
     "data": {
      "text/plain": [
       "[[0, 0.1, 0.1, 0.1, 0.1, 0.1, 0.1, 0.1, 0.1, 0.1],\n",
       " [0.1, 0, 0.1, 0.1, 0.1, 0.1, 0.1, 0.1, 0.1, 0.1],\n",
       " [0.1, 0.1, 0, 0.1, 0.1, 0.1, 0.1, 0.1, 0.1, 0.1],\n",
       " [0.1, 0.1, 0.1, 0, 0.1, 0.1, 0.1, 0.1, 0.1, 0.1],\n",
       " [0.1, 0.1, 0.1, 0.1, 0, 0.1, 0.1, 0.1, 0.2, 0.1],\n",
       " [0.1, 0.1, 0.1, 0.1, 0.1, 0, 0.1, 0.1, 0.1, 0.1],\n",
       " [0.1, 0.1, 0.1, 0.1, 0.1, 0.1, 0, 0.1, 0.1, 0.1],\n",
       " [0.1, 0.1, 0.1, 0.1, 0.1, 0.1, 0.1, 0, 0.1, 0.1],\n",
       " [0.1, 0.1, 0.1, 0.1, 0.2, 0.1, 0.1, 0.1, 0, 0.1],\n",
       " [0.1, 0.1, 0.1, 0.1, 0.1, 0.1, 0.1, 0.1, 0.1, 0]]"
      ]
     },
     "execution_count": 52,
     "metadata": {},
     "output_type": "execute_result"
    }
   ],
   "source": [
    "freq_2mots = proba_conjointe(liste)\n",
    "freq_2mots"
   ]
  },
  {
   "cell_type": "code",
   "execution_count": 14,
   "metadata": {},
   "outputs": [],
   "source": [
    "def proba(data):\n",
    "    freq_mot = [0 for i in range(len(liste))]\n",
    "    for mot1 in liste:\n",
    "        for i in fenetre:\n",
    "            if mot1 in i:\n",
    "                freq_mot[liste.index(mot1)]+=1\n",
    "        freq_mot[liste.index(mot1)] = round(freq_mot[liste.index(mot1)] / len(fenetre),2)\n",
    "    return freq_mot\n"
   ]
  },
  {
   "cell_type": "code",
   "execution_count": 18,
   "metadata": {},
   "outputs": [],
   "source": [
    "freq_mot = proba(liste)"
   ]
  },
  {
   "cell_type": "code",
   "execution_count": 15,
   "metadata": {},
   "outputs": [],
   "source": [
    "def ppmi(data):\n",
    "    ppmi = [[0 for i in range(len(liste))] for i in range(len(liste))]\n",
    "    for mot1 in range(len(liste)):\n",
    "        for mot2 in range(len(liste)):\n",
    "            if freq_mot[mot1]==0 or freq_mot[mot2]==0 or freq_2mots[mot1][mot2]==0 or math.log(freq_2mots[mot1][mot2] / (freq_mot[mot1]*freq_mot[mot2])) < 0:\n",
    "\n",
    "                 ppmi[mot1][mot2]=0\n",
    "            else:\n",
    "                ppmi[mot1][mot2]=math.log(freq_2mots[mot1][mot2] / (freq_mot[mot1]*freq_mot[mot2]))\n",
    "    return ppmi\n"
   ]
  },
  {
   "cell_type": "code",
   "execution_count": 19,
   "metadata": {},
   "outputs": [],
   "source": [
    "ppmi_tot = ppmi(liste)"
   ]
  },
  {
   "cell_type": "code",
   "execution_count": 20,
   "metadata": {},
   "outputs": [],
   "source": [
    "def Calcul(mot1,mot2, freq_2mots, freq_mot, ppmi):\n",
    "    mot1=liste.index(mot1)\n",
    "    mot2=liste.index(mot2)\n",
    "    print(\"\\n Fréquence entre les 2 mots : \",freq_2mots[mot1][mot2],\"\\n Fréquence du mot 1 :  \" ,\n",
    "          freq_mot[mot1],\"\\n Fréquence du mot 2  \",freq_mot[mot2])\n",
    "    print(\" Valeur du ppmi : \", ppmi[mot1][mot2])\n",
    "    "
   ]
  },
  {
   "cell_type": "code",
   "execution_count": 23,
   "metadata": {},
   "outputs": [
    {
     "name": "stdout",
     "output_type": "stream",
     "text": [
      "\n",
      " Fréquence entre les 2 mots :  0 \n",
      " Fréquence du mot 1 :   0.0 \n",
      " Fréquence du mot 2   0.0\n",
      " Valeur du ppmi :  0\n",
      "None\n"
     ]
    }
   ],
   "source": [
    "print(Calcul('On', 'paumé', freq_2mots, freq_mot, ppmi_tot))"
   ]
  }
 ],
 "metadata": {
  "kernelspec": {
   "display_name": "Python 3",
   "language": "python",
   "name": "python3"
  },
  "language_info": {
   "codemirror_mode": {
    "name": "ipython",
    "version": 3
   },
   "file_extension": ".py",
   "mimetype": "text/x-python",
   "name": "python",
   "nbconvert_exporter": "python",
   "pygments_lexer": "ipython3",
   "version": "3.6.5"
  }
 },
 "nbformat": 4,
 "nbformat_minor": 2
}
